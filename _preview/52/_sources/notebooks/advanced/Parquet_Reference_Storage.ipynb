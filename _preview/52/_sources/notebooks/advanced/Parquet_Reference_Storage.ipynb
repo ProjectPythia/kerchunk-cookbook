{
 "cells": [
  {
   "attachments": {},
   "cell_type": "markdown",
   "metadata": {},
   "source": [
    "\n",
    "<img src=\"https://upload.wikimedia.org/wikipedia/commons/4/47/Apache_Parquet_logo.svg\" width=400 alt=\"Parquet Logo\"></img>"
   ]
  },
  {
   "attachments": {},
   "cell_type": "markdown",
   "metadata": {},
   "source": [
    "# Store Kerchunk Reference Files as Parquet"
   ]
  },
  {
   "attachments": {},
   "cell_type": "markdown",
   "metadata": {},
   "source": [
    "## Overview\n",
    "   \n",
    "In this notebook we will cover how to store Kerchunk references as Parquet files instead of json. For large reference datasets, using Parquet should have performance implications as the overall reference file size should be smaller and the memory overhead of combining the reference files should be lower. \n",
    "\n",
    "\n",
    "This notebook builds upon the [Kerchunk Basics](notebooks/foundations/01_kerchunk_basics.ipynb), [Multi-File Datasets with Kerchunk](notebooks/foundations/02_kerchunk_multi_file.ipynb) and the [Kerchunk and Dask](notebooks/foundations/03_kerchunk_dask.ipynb) notebooks. \n",
    "\n",
    "## Prerequisites\n",
    "| Concepts | Importance | Notes |\n",
    "| --- | --- | --- |\n",
    "| [Kerchunk Basics](../foundations/kerchunk_basics) | Required | Core |\n",
    "| [Multiple Files and Kerchunk](../foundations/kerchunk_multi_file) | Required | Core |\n",
    "| [Introduction to Xarray](https://foundations.projectpythia.org/core/xarray/xarray-intro.html) | Recommended | IO/Visualization |\n",
    "| [Intro to Dask](https://tutorial.dask.org/00_overview.html) | Required | Parallel Processing |\n",
    "\n",
    "- **Time to learn**: 30 minutes\n",
    "---"
   ]
  },
  {
   "attachments": {},
   "cell_type": "markdown",
   "metadata": {},
   "source": [
    "## Imports\n",
    "In addition to the previous imports we used throughout the tutorial, we are adding a few imports:\n",
    "- `LazyReferenceMapper` and `ReferenceFileSystem` from `fsspec.implementations.reference` for lazy Parquet.\n",
    "\n",
    "\n"
   ]
  },
  {
   "cell_type": "code",
   "execution_count": null,
   "metadata": {},
   "outputs": [],
   "source": [
    "import logging\n",
    "import os\n",
    "\n",
    "import dask\n",
    "import fsspec\n",
    "import xarray as xr\n",
    "from distributed import Client\n",
    "from fsspec.implementations.reference import LazyReferenceMapper, ReferenceFileSystem\n",
    "from kerchunk.combine import MultiZarrToZarr\n",
    "from kerchunk.hdf import SingleHdf5ToZarr"
   ]
  },
  {
   "attachments": {},
   "cell_type": "markdown",
   "metadata": {},
   "source": [
    "## Setting up the `Dask` Client\n"
   ]
  },
  {
   "cell_type": "code",
   "execution_count": null,
   "metadata": {},
   "outputs": [],
   "source": [
    "client = Client(n_workers=8, silence_logs=logging.ERROR)\n",
    "client"
   ]
  },
  {
   "attachments": {},
   "cell_type": "markdown",
   "metadata": {},
   "source": [
    "## Create Input File List\n",
    "\n",
    "Here we are using `fsspec's` glob functionality along with the *`*`* wildcard operator and some string slicing to grab a list of NetCDF files from a `s3` `fsspec` filesystem. "
   ]
  },
  {
   "cell_type": "code",
   "execution_count": null,
   "metadata": {},
   "outputs": [],
   "source": [
    "# Initiate fsspec filesystems for reading\n",
    "fs_read = fsspec.filesystem(\"s3\", anon=True, skip_instance_cache=True)\n",
    "\n",
    "files_paths = fs_read.glob(\"s3://smn-ar-wrf/DATA/WRF/DET/2022/12/31/12/*\")\n",
    "\n",
    "# Here we prepend the prefix 's3://', which points to AWS.\n",
    "file_pattern = sorted([\"s3://\" + f for f in files_paths])\n",
    "\n",
    "# Grab the first seven files to speed up example.\n",
    "file_pattern = file_pattern[0:2]"
   ]
  },
  {
   "attachments": {},
   "cell_type": "markdown",
   "metadata": {},
   "source": [
    "# Generate Lazy References\n",
    "Below we will create a `fsspec` filesystem to read the references from `s3` and create a function to generate dask delayed tasks."
   ]
  },
  {
   "cell_type": "code",
   "execution_count": null,
   "metadata": {},
   "outputs": [],
   "source": [
    "# Use Kerchunk's `SingleHdf5ToZarr` method to create a `Kerchunk`\n",
    "# index from a NetCDF file.\n",
    "fs_read = fsspec.filesystem(\"s3\", anon=True, skip_instance_cache=True)\n",
    "so = dict(mode=\"rb\", anon=True, default_fill_cache=False, default_cache_type=\"first\")\n",
    "\n",
    "\n",
    "def generate_json_reference(fil):\n",
    "    with fs_read.open(fil, **so) as infile:\n",
    "        h5chunks = SingleHdf5ToZarr(infile, fil, inline_threshold=300)\n",
    "        return h5chunks.translate()  # outf\n",
    "\n",
    "\n",
    "# Generate Dask Delayed objects\n",
    "tasks = [dask.delayed(generate_json_reference)(fil) for fil in file_pattern]"
   ]
  },
  {
   "attachments": {},
   "cell_type": "markdown",
   "metadata": {},
   "source": [
    "### Start the Dask Processing\n",
    "To view the processing you can view it in real-time on the Dask Dashboard. ex: http://127.0.0.1:8787/status"
   ]
  },
  {
   "cell_type": "code",
   "execution_count": null,
   "metadata": {},
   "outputs": [],
   "source": [
    "single_refs = dask.compute(tasks)[0]"
   ]
  },
  {
   "cell_type": "code",
   "execution_count": null,
   "metadata": {},
   "outputs": [],
   "source": [
    "len(single_refs)"
   ]
  },
  {
   "attachments": {},
   "cell_type": "markdown",
   "metadata": {},
   "source": [
    "## Combine In-Memory References with MultiZarrToZarr\n",
    "This section will look notably different than the previous examples that have written to `.json`.\n",
    "\n",
    "In the following code block we are:\n",
    "- Creating an `fsspec` filesystem.\n",
    "- Create a empty `parquet` file to write to. \n",
    "- Creating an `fsspec` `LazyReferenceMapper` to pass into `MultiZarrToZarr`\n",
    "- Building a `MultiZarrToZarr` object of the combined references.\n",
    "- Calling `.flush()` on our LazyReferenceMapper, to write the combined reference to our `parquet` file."
   ]
  },
  {
   "cell_type": "code",
   "execution_count": null,
   "metadata": {},
   "outputs": [],
   "source": [
    "fs = fsspec.filesystem(\"file\")\n",
    "\n",
    "if os.path.exists(\"combined.parq\"):\n",
    "    import shutil\n",
    "\n",
    "    shutil.rmtree(\"combined.parq\")\n",
    "os.makedirs(\"combined.parq\")\n",
    "\n",
    "out = LazyReferenceMapper.create(root=\"combined.parq\", fs=fs, record_size=1000)\n",
    "\n",
    "mzz = MultiZarrToZarr(\n",
    "    single_refs,\n",
    "    remote_protocol=\"s3\",\n",
    "    concat_dims=[\"time\"],\n",
    "    identical_dims=[\"y\", \"x\"],\n",
    "    remote_options={\"anon\": True},\n",
    "    out=out,\n",
    ").translate()\n",
    "\n",
    "out.flush()"
   ]
  },
  {
   "cell_type": "markdown",
   "metadata": {},
   "source": [
    "# Shutdown the Dask cluster"
   ]
  },
  {
   "cell_type": "code",
   "execution_count": null,
   "metadata": {},
   "outputs": [],
   "source": [
    "client.shutdown()"
   ]
  },
  {
   "attachments": {},
   "cell_type": "markdown",
   "metadata": {},
   "source": [
    "## Load kerchunked dataset\n",
    "\n",
    "Next we initiate a `fsspec` `ReferenceFileSystem`.\n",
    "We need to pass:\n",
    "- The name of the parquet store\n",
    "- The remote protocol (This is the protocol of the input file urls)\n",
    "- The target protocol (`file` since we saved our parquet store locally)."
   ]
  },
  {
   "cell_type": "code",
   "execution_count": null,
   "metadata": {},
   "outputs": [],
   "source": [
    "fs = ReferenceFileSystem(\n",
    "    \"combined.parq\", remote_protocol=\"s3\", target_protocol=\"file\", lazy=True\n",
    ")\n",
    "ds = xr.open_dataset(\n",
    "    fs.get_mapper(), engine=\"zarr\", backend_kwargs={\"consolidated\": False}\n",
    ")"
   ]
  },
  {
   "cell_type": "code",
   "execution_count": null,
   "metadata": {},
   "outputs": [],
   "source": [
    "ds"
   ]
  }
 ],
 "metadata": {
  "kernelspec": {
   "display_name": "kerchunk-cookbook-dev",
   "language": "python",
   "name": "python3"
  },
  "language_info": {
   "codemirror_mode": {
    "name": "ipython",
    "version": 3
   },
   "file_extension": ".py",
   "mimetype": "text/x-python",
   "name": "python",
   "nbconvert_exporter": "python",
   "pygments_lexer": "ipython3",
   "version": "3.10.13"
  }
 },
 "nbformat": 4,
 "nbformat_minor": 2
}
